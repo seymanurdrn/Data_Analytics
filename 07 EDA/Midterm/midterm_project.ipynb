{
 "cells": [
  {
   "cell_type": "code",
   "execution_count": 1,
   "id": "6ef9a244-07b8-4452-97f4-e5850d9274df",
   "metadata": {},
   "outputs": [],
   "source": [
    "#Veri setinizi Pandas kullanarak okuyun."
   ]
  },
  {
   "cell_type": "code",
   "execution_count": 2,
   "id": "141165f1-2fe2-490c-8c89-d6ebe81b4172",
   "metadata": {},
   "outputs": [],
   "source": [
    "#Veri setinizin ilk 5 satırını ve sütunlarını görüntüleyin."
   ]
  },
  {
   "cell_type": "code",
   "execution_count": 3,
   "id": "2b8f86d3-1ff5-4a77-9d36-6a9f42c2b525",
   "metadata": {},
   "outputs": [],
   "source": [
    "#Veri setinizin genel bilgilerini (sütun türleri, eksik değerler) gösterin."
   ]
  },
  {
   "cell_type": "code",
   "execution_count": 4,
   "id": "016aab21-eb3e-4c25-8542-a1c551264c33",
   "metadata": {},
   "outputs": [],
   "source": [
    "#Veri setinizin temel istatisklerini görüntüleyin"
   ]
  },
  {
   "cell_type": "code",
   "execution_count": 5,
   "id": "0aae8830-3357-4770-9142-b5baa37110b0",
   "metadata": {},
   "outputs": [],
   "source": [
    "#İçeceklerin ortalama  değerlerini hesaplayın."
   ]
  },
  {
   "cell_type": "code",
   "execution_count": 6,
   "id": "f755cfef-4749-4fb4-a8de-11ea545c3479",
   "metadata": {},
   "outputs": [],
   "source": [
    "#En yüksek ve en düsük şeker içeren 5 içeceği bulun."
   ]
  },
  {
   "cell_type": "code",
   "execution_count": 7,
   "id": "b18761fa-ba9c-4a29-a7b5-07476b551df7",
   "metadata": {},
   "outputs": [],
   "source": [
    "#En yüksek ve en düsük kalori içeren 5 içeceği bulun."
   ]
  },
  {
   "cell_type": "code",
   "execution_count": 8,
   "id": "44cabc67-4474-46d5-a6c1-b57c1f585beb",
   "metadata": {},
   "outputs": [],
   "source": [
    "#En yüksek ve en düsük cafein içeren 5 içeceği bulun."
   ]
  },
  {
   "cell_type": "code",
   "execution_count": 9,
   "id": "a238b0bc-f5db-4b84-bc2a-4c00af004ef6",
   "metadata": {},
   "outputs": [],
   "source": [
    "#Hangi kahve türlerinin veri setinizde bulunduğunu görüntüleyin."
   ]
  },
  {
   "cell_type": "code",
   "execution_count": 10,
   "id": "b0fc01ff-befc-4253-b540-99d5b2ae7f55",
   "metadata": {},
   "outputs": [],
   "source": [
    "#Her kahve türünün ortalama yağ içeriğini hesaplayın ve görselleştirin."
   ]
  },
  {
   "cell_type": "code",
   "execution_count": 11,
   "id": "53677cde-5c94-42dd-bd68-db15e2ca2c4f",
   "metadata": {},
   "outputs": [],
   "source": [
    "#Her kahve türünün ortalama seker içeriğini hesaplayın ve görselleştirin."
   ]
  },
  {
   "cell_type": "code",
   "execution_count": 12,
   "id": "009f2713-fcdb-4f46-9c26-3b368adc2203",
   "metadata": {},
   "outputs": [],
   "source": [
    "#Her kahve türünün ortalama protein içeriğini hesaplayın ve görselleştirin."
   ]
  },
  {
   "cell_type": "code",
   "execution_count": 13,
   "id": "0f16e897-d96f-417c-ba8a-59135459b42e",
   "metadata": {},
   "outputs": [],
   "source": [
    "#İçecek türlerine göre kalori dağılımını görselleştirin."
   ]
  },
  {
   "cell_type": "code",
   "execution_count": 14,
   "id": "c6dd3392-089f-4577-ad56-993fabf6b1c9",
   "metadata": {},
   "outputs": [],
   "source": [
    "#İçecek türlerine göre yag icerigini hesaplayin ve görselleştirin."
   ]
  },
  {
   "cell_type": "code",
   "execution_count": 15,
   "id": "88bb16e0-c478-4875-b92d-53e4d648e1bb",
   "metadata": {},
   "outputs": [],
   "source": [
    "#İçecek türlerine göre vitamin dağılımlarini görselleştirin."
   ]
  },
  {
   "cell_type": "code",
   "execution_count": 16,
   "id": "aca95a40-f7e0-4d1d-81a6-8030c2e9629b",
   "metadata": {},
   "outputs": [],
   "source": [
    "#İçecek türlerine göre Cholesterol dağılımlarini görselleştirin."
   ]
  },
  {
   "cell_type": "code",
   "execution_count": 17,
   "id": "272ecdb2-2cb2-4305-a73e-aab91d278e5e",
   "metadata": {},
   "outputs": [],
   "source": [
    "#her bir vitanim icin en yüsek orana sahip 3 icecegi bulun"
   ]
  },
  {
   "cell_type": "code",
   "execution_count": 18,
   "id": "5a672dfc-85cc-4d0f-9c3d-9e660d34ed29",
   "metadata": {},
   "outputs": [],
   "source": [
    "#icecek boyutlari arasinda en fazla calori farki olan\n",
    "#icecekleri karsilastirin"
   ]
  },
  {
   "cell_type": "code",
   "execution_count": 19,
   "id": "b9b8dc15-e051-4f6c-8f46-5d3aaeccdde0",
   "metadata": {},
   "outputs": [],
   "source": [
    "#kendi tüketiminize göre günlük ortalama calori aliminizi hesaplayin."
   ]
  },
  {
   "cell_type": "code",
   "execution_count": 20,
   "id": "4cbf52cc-47fc-4072-9e3e-3048dc3baa56",
   "metadata": {},
   "outputs": [],
   "source": [
    "### bonus bir kisinin kendi tüketimini girebilecek ve \n",
    "### sonunda da calori alinimi hesaplayan bir code blogu yazin"
   ]
  }
 ],
 "metadata": {
  "kernelspec": {
   "display_name": "Python 3",
   "language": "python",
   "name": "python3"
  },
  "language_info": {
   "codemirror_mode": {
    "name": "ipython",
    "version": 3
   },
   "file_extension": ".py",
   "mimetype": "text/x-python",
   "name": "python",
   "nbconvert_exporter": "python",
   "pygments_lexer": "ipython3",
   "version": "3.8.8"
  }
 },
 "nbformat": 4,
 "nbformat_minor": 5
}
