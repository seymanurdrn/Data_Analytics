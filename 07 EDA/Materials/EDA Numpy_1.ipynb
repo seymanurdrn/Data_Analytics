{
 "cells": [
  {
   "cell_type": "code",
   "execution_count": 1,
   "id": "3fe4dae7-1e32-4191-9787-84e3c182fdc5",
   "metadata": {
    "tags": []
   },
   "outputs": [
    {
     "name": "stdout",
     "output_type": "stream",
     "text": [
      "Interactive namespace is empty.\n"
     ]
    }
   ],
   "source": [
    "%who"
   ]
  },
  {
   "cell_type": "code",
   "execution_count": 2,
   "id": "46dd55c9-14b6-4bed-ad1c-13cf410cbe56",
   "metadata": {
    "tags": []
   },
   "outputs": [],
   "source": [
    "import numpy as np"
   ]
  },
  {
   "cell_type": "code",
   "execution_count": 3,
   "id": "039c743d-013e-4840-a4e1-fb327b18e816",
   "metadata": {
    "tags": []
   },
   "outputs": [
    {
     "name": "stdout",
     "output_type": "stream",
     "text": [
      "1.24.3\n"
     ]
    }
   ],
   "source": [
    "print(np.__version__)"
   ]
  },
  {
   "cell_type": "code",
   "execution_count": 4,
   "id": "c3d639fb-0d0f-4f45-aac7-3b5a4cb10a0e",
   "metadata": {
    "tags": []
   },
   "outputs": [
    {
     "data": {
      "text/plain": [
       "\u001b[1;31mType:\u001b[0m        module\n",
       "\u001b[1;31mString form:\u001b[0m <module 'numpy' from 'C:\\\\Users\\\\ASUSVivaBook\\\\anaconda3\\\\Lib\\\\site-packages\\\\numpy\\\\__init__.py'>\n",
       "\u001b[1;31mFile:\u001b[0m        c:\\users\\asusvivabook\\anaconda3\\lib\\site-packages\\numpy\\__init__.py\n",
       "\u001b[1;31mDocstring:\u001b[0m  \n",
       "NumPy\n",
       "=====\n",
       "\n",
       "Provides\n",
       "  1. An array object of arbitrary homogeneous items\n",
       "  2. Fast mathematical operations over arrays\n",
       "  3. Linear Algebra, Fourier Transforms, Random Number Generation\n",
       "\n",
       "How to use the documentation\n",
       "----------------------------\n",
       "Documentation is available in two forms: docstrings provided\n",
       "with the code, and a loose standing reference guide, available from\n",
       "`the NumPy homepage <https://numpy.org>`_.\n",
       "\n",
       "We recommend exploring the docstrings using\n",
       "`IPython <https://ipython.org>`_, an advanced Python shell with\n",
       "TAB-completion and introspection capabilities.  See below for further\n",
       "instructions.\n",
       "\n",
       "The docstring examples assume that `numpy` has been imported as ``np``::\n",
       "\n",
       "  >>> import numpy as np\n",
       "\n",
       "Code snippets are indicated by three greater-than signs::\n",
       "\n",
       "  >>> x = 42\n",
       "  >>> x = x + 1\n",
       "\n",
       "Use the built-in ``help`` function to view a function's docstring::\n",
       "\n",
       "  >>> help(np.sort)\n",
       "  ... # doctest: +SKIP\n",
       "\n",
       "For some objects, ``np.info(obj)`` may provide additional help.  This is\n",
       "particularly true if you see the line \"Help on ufunc object:\" at the top\n",
       "of the help() page.  Ufuncs are implemented in C, not Python, for speed.\n",
       "The native Python help() does not know how to view their help, but our\n",
       "np.info() function does.\n",
       "\n",
       "To search for documents containing a keyword, do::\n",
       "\n",
       "  >>> np.lookfor('keyword')\n",
       "  ... # doctest: +SKIP\n",
       "\n",
       "General-purpose documents like a glossary and help on the basic concepts\n",
       "of numpy are available under the ``doc`` sub-module::\n",
       "\n",
       "  >>> from numpy import doc\n",
       "  >>> help(doc)\n",
       "  ... # doctest: +SKIP\n",
       "\n",
       "Available subpackages\n",
       "---------------------\n",
       "lib\n",
       "    Basic functions used by several sub-packages.\n",
       "random\n",
       "    Core Random Tools\n",
       "linalg\n",
       "    Core Linear Algebra Tools\n",
       "fft\n",
       "    Core FFT routines\n",
       "polynomial\n",
       "    Polynomial tools\n",
       "testing\n",
       "    NumPy testing tools\n",
       "distutils\n",
       "    Enhancements to distutils with support for\n",
       "    Fortran compilers support and more.\n",
       "\n",
       "Utilities\n",
       "---------\n",
       "test\n",
       "    Run numpy unittests\n",
       "show_config\n",
       "    Show numpy build configuration\n",
       "dual\n",
       "    Overwrite certain functions with high-performance SciPy tools.\n",
       "    Note: `numpy.dual` is deprecated.  Use the functions from NumPy or Scipy\n",
       "    directly instead of importing them from `numpy.dual`.\n",
       "matlib\n",
       "    Make everything matrices.\n",
       "__version__\n",
       "    NumPy version string\n",
       "\n",
       "Viewing documentation using IPython\n",
       "-----------------------------------\n",
       "\n",
       "Start IPython and import `numpy` usually under the alias ``np``: `import\n",
       "numpy as np`.  Then, directly past or use the ``%cpaste`` magic to paste\n",
       "examples into the shell.  To see which functions are available in `numpy`,\n",
       "type ``np.<TAB>`` (where ``<TAB>`` refers to the TAB key), or use\n",
       "``np.*cos*?<ENTER>`` (where ``<ENTER>`` refers to the ENTER key) to narrow\n",
       "down the list.  To view the docstring for a function, use\n",
       "``np.cos?<ENTER>`` (to view the docstring) and ``np.cos??<ENTER>`` (to view\n",
       "the source code).\n",
       "\n",
       "Copies vs. in-place operation\n",
       "-----------------------------\n",
       "Most of the functions in `numpy` return a copy of the array argument\n",
       "(e.g., `np.sort`).  In-place versions of these functions are often\n",
       "available as array methods, i.e. ``x = np.array([1,2,3]); x.sort()``.\n",
       "Exceptions to this rule are documented."
      ]
     },
     "metadata": {},
     "output_type": "display_data"
    }
   ],
   "source": [
    "np?"
   ]
  },
  {
   "cell_type": "code",
   "execution_count": 5,
   "id": "125fdfb8-8074-4a91-8d85-f74aced4fb8a",
   "metadata": {
    "tags": []
   },
   "outputs": [
    {
     "data": {
      "text/plain": [
       "[1, 2.0, 3]"
      ]
     },
     "execution_count": 5,
     "metadata": {},
     "output_type": "execute_result"
    }
   ],
   "source": [
    "li_list = [1, 2.0, 3]\n",
    "li_list"
   ]
  },
  {
   "cell_type": "code",
   "execution_count": 6,
   "id": "7fa8ebb1-e8a8-4479-bb56-9d3fabccc67f",
   "metadata": {
    "tags": []
   },
   "outputs": [
    {
     "data": {
      "text/plain": [
       "float"
      ]
     },
     "execution_count": 6,
     "metadata": {},
     "output_type": "execute_result"
    }
   ],
   "source": [
    "type(li_list[1])"
   ]
  },
  {
   "cell_type": "code",
   "execution_count": 7,
   "id": "9dd48758-a104-4c7d-a90e-9e32628764bf",
   "metadata": {
    "tags": []
   },
   "outputs": [
    {
     "data": {
      "text/plain": [
       "array([1, 2, 3])"
      ]
     },
     "execution_count": 7,
     "metadata": {},
     "output_type": "execute_result"
    }
   ],
   "source": [
    "np.array([1,2,3])"
   ]
  },
  {
   "cell_type": "markdown",
   "id": "646b8e17-7466-45dc-a590-5df9d41d7329",
   "metadata": {},
   "source": [
    "Numpy'ın içindeki her veri kesinlikle aynı tipte olmalıdır."
   ]
  },
  {
   "cell_type": "code",
   "execution_count": 8,
   "id": "698ca410-6e63-45ce-a027-c6b7114cd020",
   "metadata": {
    "tags": []
   },
   "outputs": [
    {
     "data": {
      "text/plain": [
       "['ali', 1]"
      ]
     },
     "execution_count": 8,
     "metadata": {},
     "output_type": "execute_result"
    }
   ],
   "source": [
    "[\"ali\", 1]"
   ]
  },
  {
   "cell_type": "code",
   "execution_count": 9,
   "id": "2c865ca0-6fde-4830-b9d0-acfd062fec14",
   "metadata": {
    "tags": []
   },
   "outputs": [
    {
     "data": {
      "text/plain": [
       "array(['ali', '1'], dtype='<U11')"
      ]
     },
     "execution_count": 9,
     "metadata": {},
     "output_type": "execute_result"
    }
   ],
   "source": [
    "np.array([\"ali\", 1])"
   ]
  },
  {
   "cell_type": "markdown",
   "id": "9aaad425-3354-4725-b84e-7a83106c5d18",
   "metadata": {},
   "source": [
    "İkisini de stringe çevirdi. Çünkü ikisi de aynı tipte olmalı.\n",
    "Bu neden önemli?\n",
    "Elimizdeki bir veri setiyle işlem yapacaksak öncesinde o veri setinin her bir kodunun, sütununun veri tipini analiz etmeden işleme geçersek analiz error verebilir."
   ]
  },
  {
   "cell_type": "code",
   "execution_count": 10,
   "id": "ebd4a7d4-ab1d-490e-bd59-ea3289a78c0b",
   "metadata": {
    "tags": []
   },
   "outputs": [],
   "source": [
    "np_array = np.array([1,2,3])"
   ]
  },
  {
   "cell_type": "code",
   "execution_count": 11,
   "id": "4257a60b-76b4-4b33-9eb2-da50098f1e0e",
   "metadata": {
    "tags": []
   },
   "outputs": [
    {
     "data": {
      "text/plain": [
       "(3,)"
      ]
     },
     "execution_count": 11,
     "metadata": {},
     "output_type": "execute_result"
    }
   ],
   "source": [
    "np_array.shape"
   ]
  },
  {
   "cell_type": "code",
   "execution_count": 12,
   "id": "c084609a-d56e-462b-b599-2585d8874575",
   "metadata": {
    "tags": []
   },
   "outputs": [],
   "source": [
    "np_array.resize(5,3)"
   ]
  },
  {
   "cell_type": "code",
   "execution_count": 14,
   "id": "7248b3a3-4b2c-448b-b0d2-07141d0ab0e6",
   "metadata": {
    "tags": []
   },
   "outputs": [
    {
     "data": {
      "text/plain": [
       "(5, 3)"
      ]
     },
     "execution_count": 14,
     "metadata": {},
     "output_type": "execute_result"
    }
   ],
   "source": [
    "np_array.shape"
   ]
  },
  {
   "cell_type": "code",
   "execution_count": 15,
   "id": "bc5594a1-5ff6-4b49-b873-cfb775b991c3",
   "metadata": {
    "tags": []
   },
   "outputs": [
    {
     "name": "stdout",
     "output_type": "stream",
     "text": [
      "li_list\t np\t np_array\t \n"
     ]
    }
   ],
   "source": [
    "%who"
   ]
  },
  {
   "cell_type": "markdown",
   "id": "70f9ed78-2d86-4c32-bb2a-1ff0b8b66883",
   "metadata": {},
   "source": [
    "%who ile hangi değişkenlerimizin olduğuna bakıyoruz."
   ]
  },
  {
   "cell_type": "code",
   "execution_count": 19,
   "id": "b6ec635c-5a7f-4c55-8ed1-70e72168de66",
   "metadata": {
    "tags": []
   },
   "outputs": [
    {
     "name": "stdout",
     "output_type": "stream",
     "text": [
      "int32\n",
      "Bytes: 4\n",
      "float64\n",
      "Bytes: 8\n"
     ]
    }
   ],
   "source": [
    "arr_1D_int = np.array([1,2,3])\n",
    "print(arr_1D_int.dtype)\n",
    "print(\"Bytes:\", arr_1D_int.itemsize)\n",
    "\n",
    "arr_1D_float = np.array([1,2,3], dtype=np.float64)\n",
    "print(arr_1D_float.dtype)\n",
    "print(\"Bytes:\", arr_1D_float.itemsize)"
   ]
  },
  {
   "cell_type": "markdown",
   "id": "14ab8958-688f-4178-a296-d9044cd23535",
   "metadata": {},
   "source": [
    "Numpy'ın en temel özelliği öncesinden belirlediğimiz veri tipini sabit tutmasıdır."
   ]
  },
  {
   "cell_type": "code",
   "execution_count": 21,
   "id": "1df8ceac-5068-440f-98db-3fdb216b05cd",
   "metadata": {
    "tags": []
   },
   "outputs": [
    {
     "data": {
      "text/plain": [
       "array([[1, 1],\n",
       "       [1, 1],\n",
       "       [1, 1]], dtype=int64)"
      ]
     },
     "execution_count": 21,
     "metadata": {},
     "output_type": "execute_result"
    }
   ],
   "source": [
    "np.ones((3, 2), dtype=np.int64)"
   ]
  },
  {
   "cell_type": "code",
   "execution_count": 23,
   "id": "4a4d34cd-1658-475a-8bea-b112e49bd13a",
   "metadata": {
    "tags": []
   },
   "outputs": [
    {
     "data": {
      "text/plain": [
       "array([[0, 0],\n",
       "       [0, 0],\n",
       "       [0, 0]], dtype=int64)"
      ]
     },
     "execution_count": 23,
     "metadata": {},
     "output_type": "execute_result"
    }
   ],
   "source": [
    "np.zeros((3, 2), dtype=np.int64)"
   ]
  },
  {
   "cell_type": "code",
   "execution_count": 24,
   "id": "164760e9-075f-41d1-bcf8-a5ed35797b02",
   "metadata": {
    "tags": []
   },
   "outputs": [
    {
     "data": {
      "text/plain": [
       "array([[1., 0., 0., 0., 0., 0., 0., 0., 0., 0.],\n",
       "       [0., 1., 0., 0., 0., 0., 0., 0., 0., 0.],\n",
       "       [0., 0., 1., 0., 0., 0., 0., 0., 0., 0.],\n",
       "       [0., 0., 0., 1., 0., 0., 0., 0., 0., 0.],\n",
       "       [0., 0., 0., 0., 1., 0., 0., 0., 0., 0.],\n",
       "       [0., 0., 0., 0., 0., 1., 0., 0., 0., 0.],\n",
       "       [0., 0., 0., 0., 0., 0., 1., 0., 0., 0.],\n",
       "       [0., 0., 0., 0., 0., 0., 0., 1., 0., 0.],\n",
       "       [0., 0., 0., 0., 0., 0., 0., 0., 1., 0.],\n",
       "       [0., 0., 0., 0., 0., 0., 0., 0., 0., 1.]])"
      ]
     },
     "execution_count": 24,
     "metadata": {},
     "output_type": "execute_result"
    }
   ],
   "source": [
    "np.eye(10)"
   ]
  },
  {
   "cell_type": "markdown",
   "id": "85aadd1f-2ea1-4474-8d40-6eb38b04342b",
   "metadata": {},
   "source": [
    "Repeat özelliği numpy'da herhangi bir listedeki veya array'daki değişkenin ne kadar tekrar edebileceğini gösterir."
   ]
  },
  {
   "cell_type": "code",
   "execution_count": 25,
   "id": "f677ede7-fe76-45e1-b257-c32ab78a13ca",
   "metadata": {
    "tags": []
   },
   "outputs": [
    {
     "data": {
      "text/plain": [
       "array([1, 1, 1, 1, 1, 1, 2, 2, 2, 2, 2, 2, 3, 3, 3, 3, 3, 3])"
      ]
     },
     "execution_count": 25,
     "metadata": {},
     "output_type": "execute_result"
    }
   ],
   "source": [
    "np.repeat([1,2,3],6)"
   ]
  },
  {
   "cell_type": "markdown",
   "id": "69d55d60-fb17-4a9c-bdca-a42fed727b99",
   "metadata": {},
   "source": [
    "Arange fonksiyonu belli sayı aralığında liste oluşturur."
   ]
  },
  {
   "cell_type": "code",
   "execution_count": 27,
   "id": "03e6ca6a-b446-4203-b739-c12cb03cf90d",
   "metadata": {
    "tags": []
   },
   "outputs": [
    {
     "data": {
      "text/plain": [
       "array([3, 4, 5, 6, 7, 8, 9])"
      ]
     },
     "execution_count": 27,
     "metadata": {},
     "output_type": "execute_result"
    }
   ],
   "source": [
    "np.arange(3,10)"
   ]
  },
  {
   "cell_type": "code",
   "execution_count": 28,
   "id": "c1d3dd4c-2c17-43a1-9082-ec40de488084",
   "metadata": {
    "tags": []
   },
   "outputs": [
    {
     "data": {
      "text/plain": [
       "array([1, 3, 5, 7, 9])"
      ]
     },
     "execution_count": 28,
     "metadata": {},
     "output_type": "execute_result"
    }
   ],
   "source": [
    "np.arange(1,10,2)"
   ]
  },
  {
   "cell_type": "code",
   "execution_count": 29,
   "id": "aa1295b8-ebd0-45cb-a9b2-8190b66b44d1",
   "metadata": {
    "tags": []
   },
   "outputs": [
    {
     "data": {
      "text/plain": [
       "\u001b[1;31mSignature:\u001b[0m\n",
       "\u001b[0mnp\u001b[0m\u001b[1;33m.\u001b[0m\u001b[0mlinspace\u001b[0m\u001b[1;33m(\u001b[0m\u001b[1;33m\n",
       "\u001b[0m    \u001b[0mstart\u001b[0m\u001b[1;33m,\u001b[0m\u001b[1;33m\n",
       "\u001b[0m    \u001b[0mstop\u001b[0m\u001b[1;33m,\u001b[0m\u001b[1;33m\n",
       "\u001b[0m    \u001b[0mnum\u001b[0m\u001b[1;33m=\u001b[0m\u001b[1;36m50\u001b[0m\u001b[1;33m,\u001b[0m\u001b[1;33m\n",
       "\u001b[0m    \u001b[0mendpoint\u001b[0m\u001b[1;33m=\u001b[0m\u001b[1;32mTrue\u001b[0m\u001b[1;33m,\u001b[0m\u001b[1;33m\n",
       "\u001b[0m    \u001b[0mretstep\u001b[0m\u001b[1;33m=\u001b[0m\u001b[1;32mFalse\u001b[0m\u001b[1;33m,\u001b[0m\u001b[1;33m\n",
       "\u001b[0m    \u001b[0mdtype\u001b[0m\u001b[1;33m=\u001b[0m\u001b[1;32mNone\u001b[0m\u001b[1;33m,\u001b[0m\u001b[1;33m\n",
       "\u001b[0m    \u001b[0maxis\u001b[0m\u001b[1;33m=\u001b[0m\u001b[1;36m0\u001b[0m\u001b[1;33m,\u001b[0m\u001b[1;33m\n",
       "\u001b[0m\u001b[1;33m)\u001b[0m\u001b[1;33m\u001b[0m\u001b[1;33m\u001b[0m\u001b[0m\n",
       "\u001b[1;31mDocstring:\u001b[0m\n",
       "Return evenly spaced numbers over a specified interval.\n",
       "\n",
       "Returns `num` evenly spaced samples, calculated over the\n",
       "interval [`start`, `stop`].\n",
       "\n",
       "The endpoint of the interval can optionally be excluded.\n",
       "\n",
       ".. versionchanged:: 1.16.0\n",
       "    Non-scalar `start` and `stop` are now supported.\n",
       "\n",
       ".. versionchanged:: 1.20.0\n",
       "    Values are rounded towards ``-inf`` instead of ``0`` when an\n",
       "    integer ``dtype`` is specified. The old behavior can\n",
       "    still be obtained with ``np.linspace(start, stop, num).astype(int)``\n",
       "\n",
       "Parameters\n",
       "----------\n",
       "start : array_like\n",
       "    The starting value of the sequence.\n",
       "stop : array_like\n",
       "    The end value of the sequence, unless `endpoint` is set to False.\n",
       "    In that case, the sequence consists of all but the last of ``num + 1``\n",
       "    evenly spaced samples, so that `stop` is excluded.  Note that the step\n",
       "    size changes when `endpoint` is False.\n",
       "num : int, optional\n",
       "    Number of samples to generate. Default is 50. Must be non-negative.\n",
       "endpoint : bool, optional\n",
       "    If True, `stop` is the last sample. Otherwise, it is not included.\n",
       "    Default is True.\n",
       "retstep : bool, optional\n",
       "    If True, return (`samples`, `step`), where `step` is the spacing\n",
       "    between samples.\n",
       "dtype : dtype, optional\n",
       "    The type of the output array.  If `dtype` is not given, the data type\n",
       "    is inferred from `start` and `stop`. The inferred dtype will never be\n",
       "    an integer; `float` is chosen even if the arguments would produce an\n",
       "    array of integers.\n",
       "\n",
       "    .. versionadded:: 1.9.0\n",
       "\n",
       "axis : int, optional\n",
       "    The axis in the result to store the samples.  Relevant only if start\n",
       "    or stop are array-like.  By default (0), the samples will be along a\n",
       "    new axis inserted at the beginning. Use -1 to get an axis at the end.\n",
       "\n",
       "    .. versionadded:: 1.16.0\n",
       "\n",
       "Returns\n",
       "-------\n",
       "samples : ndarray\n",
       "    There are `num` equally spaced samples in the closed interval\n",
       "    ``[start, stop]`` or the half-open interval ``[start, stop)``\n",
       "    (depending on whether `endpoint` is True or False).\n",
       "step : float, optional\n",
       "    Only returned if `retstep` is True\n",
       "\n",
       "    Size of spacing between samples.\n",
       "\n",
       "\n",
       "See Also\n",
       "--------\n",
       "arange : Similar to `linspace`, but uses a step size (instead of the\n",
       "         number of samples).\n",
       "geomspace : Similar to `linspace`, but with numbers spaced evenly on a log\n",
       "            scale (a geometric progression).\n",
       "logspace : Similar to `geomspace`, but with the end points specified as\n",
       "           logarithms.\n",
       ":ref:`how-to-partition`\n",
       "\n",
       "Examples\n",
       "--------\n",
       ">>> np.linspace(2.0, 3.0, num=5)\n",
       "array([2.  , 2.25, 2.5 , 2.75, 3.  ])\n",
       ">>> np.linspace(2.0, 3.0, num=5, endpoint=False)\n",
       "array([2. ,  2.2,  2.4,  2.6,  2.8])\n",
       ">>> np.linspace(2.0, 3.0, num=5, retstep=True)\n",
       "(array([2.  ,  2.25,  2.5 ,  2.75,  3.  ]), 0.25)\n",
       "\n",
       "Graphical illustration:\n",
       "\n",
       ">>> import matplotlib.pyplot as plt\n",
       ">>> N = 8\n",
       ">>> y = np.zeros(N)\n",
       ">>> x1 = np.linspace(0, 10, N, endpoint=True)\n",
       ">>> x2 = np.linspace(0, 10, N, endpoint=False)\n",
       ">>> plt.plot(x1, y, 'o')\n",
       "[<matplotlib.lines.Line2D object at 0x...>]\n",
       ">>> plt.plot(x2, y + 0.5, 'o')\n",
       "[<matplotlib.lines.Line2D object at 0x...>]\n",
       ">>> plt.ylim([-0.5, 1])\n",
       "(-0.5, 1)\n",
       ">>> plt.show()\n",
       "\u001b[1;31mFile:\u001b[0m      c:\\users\\asusvivabook\\anaconda3\\lib\\site-packages\\numpy\\core\\function_base.py\n",
       "\u001b[1;31mType:\u001b[0m      function"
      ]
     },
     "metadata": {},
     "output_type": "display_data"
    }
   ],
   "source": [
    "np.linspace?"
   ]
  },
  {
   "cell_type": "code",
   "execution_count": 31,
   "id": "93092658-61bf-4fc2-bed4-751dd17f6704",
   "metadata": {
    "tags": []
   },
   "outputs": [],
   "source": [
    "np_lin = np.linspace(1,20,10)"
   ]
  },
  {
   "cell_type": "markdown",
   "id": "3bdd5d53-fba5-480c-858d-fc5e6634b82f",
   "metadata": {},
   "source": [
    "Argmax o arraydeki maksimum değeri verir. Hatta maksimum değerden ziyade maksimum değerin olduğu indeksi verir."
   ]
  },
  {
   "cell_type": "code",
   "execution_count": 32,
   "id": "c764fbd7-6760-4b01-929a-5be37481677d",
   "metadata": {
    "tags": []
   },
   "outputs": [
    {
     "data": {
      "text/plain": [
       "9"
      ]
     },
     "execution_count": 32,
     "metadata": {},
     "output_type": "execute_result"
    }
   ],
   "source": [
    "np_lin.argmax()"
   ]
  },
  {
   "cell_type": "code",
   "execution_count": 37,
   "id": "736c4e75-abfd-4f40-b4e9-602b1a66363b",
   "metadata": {
    "tags": []
   },
   "outputs": [
    {
     "data": {
      "text/plain": [
       "\u001b[1;31mDocstring:\u001b[0m\n",
       "a.argmax(axis=None, out=None, *, keepdims=False)\n",
       "\n",
       "Return indices of the maximum values along the given axis.\n",
       "\n",
       "Refer to `numpy.argmax` for full documentation.\n",
       "\n",
       "See Also\n",
       "--------\n",
       "numpy.argmax : equivalent function\n",
       "\u001b[1;31mType:\u001b[0m      builtin_function_or_method"
      ]
     },
     "metadata": {},
     "output_type": "display_data"
    }
   ],
   "source": [
    "np_lin.argmax?"
   ]
  },
  {
   "cell_type": "code",
   "execution_count": 39,
   "id": "2dabcb80-4a49-4f66-acd7-0534f305c558",
   "metadata": {
    "tags": []
   },
   "outputs": [],
   "source": [
    "a = np.arange(10)"
   ]
  },
  {
   "cell_type": "code",
   "execution_count": 40,
   "id": "6b132d68-ad20-44d1-adbe-34afe14ef9a1",
   "metadata": {
    "tags": []
   },
   "outputs": [
    {
     "data": {
      "text/plain": [
       "array([0, 1, 2, 3, 4, 5, 6, 7, 8, 9])"
      ]
     },
     "execution_count": 40,
     "metadata": {},
     "output_type": "execute_result"
    }
   ],
   "source": [
    "a"
   ]
  },
  {
   "cell_type": "code",
   "execution_count": 42,
   "id": "b8f4dcc7-542e-4966-91c4-190199eef146",
   "metadata": {
    "tags": []
   },
   "outputs": [
    {
     "data": {
      "text/plain": [
       "array([0, 2, 4, 6, 8])"
      ]
     },
     "execution_count": 42,
     "metadata": {},
     "output_type": "execute_result"
    }
   ],
   "source": [
    "a[::2]"
   ]
  },
  {
   "cell_type": "markdown",
   "id": "835a8525-e9b3-48dd-9a70-822d55289f92",
   "metadata": {},
   "source": [
    "hstack ve vstack özellikle iki farklı array'i, numpy objesini birleştirmek için kullanılır."
   ]
  },
  {
   "cell_type": "code",
   "execution_count": 43,
   "id": "0ce52945-2f6a-4bc1-9d81-9159d1b13878",
   "metadata": {
    "tags": []
   },
   "outputs": [],
   "source": [
    "npa_p = np.ones([2,3], int)"
   ]
  },
  {
   "cell_type": "code",
   "execution_count": 44,
   "id": "73b41df1-5e71-46aa-ae1c-53446f04f9e8",
   "metadata": {
    "tags": []
   },
   "outputs": [
    {
     "data": {
      "text/plain": [
       "array([[1, 1, 1],\n",
       "       [1, 1, 1]])"
      ]
     },
     "execution_count": 44,
     "metadata": {},
     "output_type": "execute_result"
    }
   ],
   "source": [
    "npa_p"
   ]
  },
  {
   "cell_type": "code",
   "execution_count": 45,
   "id": "18d4d91c-b0ca-42d8-8cdc-3f8f6d2d3fdd",
   "metadata": {
    "tags": []
   },
   "outputs": [
    {
     "data": {
      "text/plain": [
       "array([[2, 2, 2],\n",
       "       [2, 2, 2]])"
      ]
     },
     "execution_count": 45,
     "metadata": {},
     "output_type": "execute_result"
    }
   ],
   "source": [
    "2*npa_p"
   ]
  },
  {
   "cell_type": "code",
   "execution_count": 46,
   "id": "618f5314-36a3-44c7-a03b-32c6260b9da7",
   "metadata": {
    "tags": []
   },
   "outputs": [
    {
     "data": {
      "text/plain": [
       "array([[1, 1, 1],\n",
       "       [1, 1, 1],\n",
       "       [2, 2, 2],\n",
       "       [2, 2, 2]])"
      ]
     },
     "execution_count": 46,
     "metadata": {},
     "output_type": "execute_result"
    }
   ],
   "source": [
    "np.vstack([npa_p, 2*npa_p])"
   ]
  },
  {
   "cell_type": "code",
   "execution_count": 47,
   "id": "0d1c568a-753a-4802-8e63-98b2a278f94e",
   "metadata": {
    "tags": []
   },
   "outputs": [
    {
     "data": {
      "text/plain": [
       "array([[ 1,  1,  1, 15, 15, 15, 10, 10, 10],\n",
       "       [ 1,  1,  1, 15, 15, 15, 10, 10, 10]])"
      ]
     },
     "execution_count": 47,
     "metadata": {},
     "output_type": "execute_result"
    }
   ],
   "source": [
    "np.hstack([npa_p, 15*npa_p, 10*npa_p])"
   ]
  },
  {
   "cell_type": "markdown",
   "id": "3fedd1a2-bd25-4f35-a3a3-e0ab16e89275",
   "metadata": {},
   "source": [
    "Farklı kaynaklardan gelen verileri:\n",
    "vstack, alt alta birleştiriyor;\n",
    "hstack, yan yana birleştiriyor."
   ]
  },
  {
   "cell_type": "code",
   "execution_count": 50,
   "id": "bb7546da-4abb-468c-9e97-d06e17aeef3c",
   "metadata": {
    "tags": []
   },
   "outputs": [
    {
     "name": "stdout",
     "output_type": "stream",
     "text": [
      "<class 'list'>\n",
      "Bytes:\n",
      "28000\n",
      "\n",
      "Bytes:\n",
      "4000\n"
     ]
    }
   ],
   "source": [
    "import sys\n",
    "\n",
    "li_Demo = list(range(1000))\n",
    "print(type(li_Demo))\n",
    "print(\"Bytes:\")\n",
    "print(sys.getsizeof(1)*len(li_Demo))\n",
    "\n",
    "print()\n",
    "print(\"Bytes:\")\n",
    "arr_Demo = np.arange(1000)\n",
    "print(arr_Demo.size*arr_Demo.itemsize)"
   ]
  },
  {
   "cell_type": "code",
   "execution_count": 52,
   "id": "21f48530-8bf5-449d-b9d9-bf4151df475b",
   "metadata": {
    "tags": []
   },
   "outputs": [
    {
     "name": "stdout",
     "output_type": "stream",
     "text": [
      "Listede toplam: 692.1417713165283 ms\n",
      "Arrayde toplam: 8.91423225402832 ms\n"
     ]
    }
   ],
   "source": [
    "import time\n",
    "\n",
    "c_Size = 10000000\n",
    "\n",
    "li_1 = list(range(c_Size))\n",
    "li_2 = list(range(c_Size))\n",
    "\n",
    "arr_1 = np.arange(c_Size)\n",
    "arr_2 = np.arange(c_Size)\n",
    "\n",
    "start = time.time()\n",
    "\n",
    "li_3 = [(x+y) for x,y in zip(li_1,li_2)]\n",
    "print(\"Listede toplam:\", (time.time()-start)*1000, \"ms\")\n",
    "\n",
    "start = time.time()\n",
    "\n",
    "arr_3 = arr_1+arr_2\n",
    "print(\"Arrayde toplam:\", (time.time()-start)*1000, \"ms\")"
   ]
  },
  {
   "cell_type": "code",
   "execution_count": 53,
   "id": "b811b283-dee2-410f-96e1-fb5971639d31",
   "metadata": {
    "tags": []
   },
   "outputs": [
    {
     "name": "stdout",
     "output_type": "stream",
     "text": [
      "x: [1 2 3]\n",
      "y: [4 5 6]\n",
      "x+y: [5 7 9]\n",
      "x-y: [-3 -3 -3]\n",
      "x*y: [ 4 10 18]\n",
      "x/y: [0.25 0.4  0.5 ]\n",
      "x^2: [1 4 9]\n"
     ]
    }
   ],
   "source": [
    "# matematiksel işlemler kolay\n",
    "\n",
    "arr_x = np.array([1,2,3])\n",
    "arr_y = np.array([4,5,6])\n",
    "\n",
    "print(\"x:\", arr_x)\n",
    "print(\"y:\", arr_y)\n",
    "print(\"x+y:\", arr_x + arr_y) #toplama [1 2 3] + [4 5 6] = [5 7 9]\n",
    "print(\"x-y:\", arr_x - arr_y) #çıkarma [1 2 3] - [4 5 6] = [-3 -3 -3]\n",
    "print(\"x*y:\", arr_x * arr_y) #çarpma [1 2 3] * [4 5 6] = [4 10 18]\n",
    "print(\"x/y:\", arr_x / arr_y) #bölme [1 2 3] / [4 5 6] = [0.25 0.4 0.5]\n",
    "print(\"x^2:\", arr_x**2) #üst [1 2 3] ^2 = [1 4 9]"
   ]
  },
  {
   "cell_type": "code",
   "execution_count": 54,
   "id": "74412fb1-5289-4343-9167-e2bbd298b378",
   "metadata": {
    "tags": []
   },
   "outputs": [
    {
     "data": {
      "text/plain": [
       "1"
      ]
     },
     "execution_count": 54,
     "metadata": {},
     "output_type": "execute_result"
    }
   ],
   "source": [
    "np.array([1,2,3]).ndim"
   ]
  },
  {
   "cell_type": "code",
   "execution_count": 58,
   "id": "ccf0e276-9692-4bcb-b811-f507f68473c1",
   "metadata": {
    "tags": []
   },
   "outputs": [
    {
     "data": {
      "text/plain": [
       "array([[1, 2, 4],\n",
       "       [1, 2, 3]])"
      ]
     },
     "execution_count": 58,
     "metadata": {},
     "output_type": "execute_result"
    }
   ],
   "source": [
    "np.array([[1,2,4], [1,2,3]])"
   ]
  },
  {
   "cell_type": "code",
   "execution_count": 61,
   "id": "e45df831-9d14-4fc9-9e62-e4d47ea67159",
   "metadata": {
    "tags": []
   },
   "outputs": [
    {
     "data": {
      "text/plain": [
       "3"
      ]
     },
     "execution_count": 61,
     "metadata": {},
     "output_type": "execute_result"
    }
   ],
   "source": [
    "np.array([[[1,2,4]], [[1,2,3]]]).ndim"
   ]
  },
  {
   "cell_type": "code",
   "execution_count": 62,
   "id": "4ed23cb7-fd01-4560-8926-3e5048b80195",
   "metadata": {
    "tags": []
   },
   "outputs": [
    {
     "data": {
      "text/plain": [
       "(2, 1, 3)"
      ]
     },
     "execution_count": 62,
     "metadata": {},
     "output_type": "execute_result"
    }
   ],
   "source": [
    "np.array([[[1,2,4]], [[1,2,3]]]).shape"
   ]
  },
  {
   "cell_type": "code",
   "execution_count": 63,
   "id": "e69eb986-6945-4127-8b10-3e1b61a003c6",
   "metadata": {
    "tags": []
   },
   "outputs": [
    {
     "data": {
      "text/plain": [
       "(3, 2)"
      ]
     },
     "execution_count": 63,
     "metadata": {},
     "output_type": "execute_result"
    }
   ],
   "source": [
    "np.array([[1,2], [1,2], [1,2]]).shape \n",
    "\n",
    "# ilk sonuç kaç array olduğu, \n",
    "# sonraki sayı her bir array'in içindekini göstermiş olur \n",
    "# en sondaki en son array'in içeriğini gösterir."
   ]
  },
  {
   "cell_type": "code",
   "execution_count": 64,
   "id": "bf011cfc-a850-475c-b24d-34749b6bf78a",
   "metadata": {
    "tags": []
   },
   "outputs": [
    {
     "data": {
      "text/plain": [
       "(2, 1, 3)"
      ]
     },
     "execution_count": 64,
     "metadata": {},
     "output_type": "execute_result"
    }
   ],
   "source": [
    "np.array([[[1,2,4]], [[1,2,3]]]).shape"
   ]
  },
  {
   "cell_type": "code",
   "execution_count": 67,
   "id": "034cb84f-1456-498a-a041-646f761c45e0",
   "metadata": {
    "tags": []
   },
   "outputs": [
    {
     "data": {
      "text/plain": [
       "array([[1, 2, 4],\n",
       "       [1, 2, 3]])"
      ]
     },
     "execution_count": 67,
     "metadata": {},
     "output_type": "execute_result"
    }
   ],
   "source": [
    "np.array([[[1,2,4]], [[1,2,3]]]).reshape(2,3)\n",
    "# array'in iç içe geçişliliğini değiştirmiş oldu."
   ]
  },
  {
   "cell_type": "code",
   "execution_count": 69,
   "id": "fabd7400-50e4-449c-bf7f-9f1a774d0767",
   "metadata": {
    "tags": []
   },
   "outputs": [],
   "source": [
    "np_array_32 = np.array([[1,2], [1,2], [1,2]])"
   ]
  },
  {
   "cell_type": "code",
   "execution_count": 70,
   "id": "cc2e5407-d27e-4df1-90ea-68095aab611e",
   "metadata": {
    "tags": []
   },
   "outputs": [],
   "source": [
    "np_array_23 = np.array([[1,2], [1,2], [1,2]]).reshape(2,3)"
   ]
  },
  {
   "cell_type": "code",
   "execution_count": 71,
   "id": "f8a8ff67-4c0e-4930-86c3-bf0e0b2830ad",
   "metadata": {
    "tags": []
   },
   "outputs": [
    {
     "data": {
      "text/plain": [
       "array([[1, 2],\n",
       "       [1, 2],\n",
       "       [1, 2]])"
      ]
     },
     "execution_count": 71,
     "metadata": {},
     "output_type": "execute_result"
    }
   ],
   "source": [
    "np_array_32"
   ]
  },
  {
   "cell_type": "code",
   "execution_count": 72,
   "id": "59bdeae2-302f-447d-a257-6c9aaf5cfcaf",
   "metadata": {
    "tags": []
   },
   "outputs": [
    {
     "data": {
      "text/plain": [
       "array([[1, 2, 1],\n",
       "       [2, 1, 2]])"
      ]
     },
     "execution_count": 72,
     "metadata": {},
     "output_type": "execute_result"
    }
   ],
   "source": [
    "np_array_23"
   ]
  },
  {
   "cell_type": "code",
   "execution_count": 73,
   "id": "07cb35e8-d708-4567-ba23-41e2afd5fec2",
   "metadata": {
    "tags": []
   },
   "outputs": [
    {
     "data": {
      "text/plain": [
       "array([1, 2, 1, 2, 1, 2])"
      ]
     },
     "execution_count": 73,
     "metadata": {},
     "output_type": "execute_result"
    }
   ],
   "source": [
    "np_array_32.ravel()\n",
    "# hepsini tek seviyeye getiriyor."
   ]
  },
  {
   "cell_type": "code",
   "execution_count": 75,
   "id": "06eaacaa-516b-4f5e-b151-3de3814601e0",
   "metadata": {
    "tags": []
   },
   "outputs": [
    {
     "data": {
      "text/plain": [
       "array([[1],\n",
       "       [2],\n",
       "       [1],\n",
       "       [2],\n",
       "       [1],\n",
       "       [2]])"
      ]
     },
     "execution_count": 75,
     "metadata": {},
     "output_type": "execute_result"
    }
   ],
   "source": [
    "np_array_32.reshape(6,1)"
   ]
  },
  {
   "cell_type": "code",
   "execution_count": 77,
   "id": "c368ac11-5123-42c5-8600-9478b7a41440",
   "metadata": {
    "tags": []
   },
   "outputs": [
    {
     "data": {
      "text/plain": [
       "array([[1],\n",
       "       [2],\n",
       "       [1],\n",
       "       [2],\n",
       "       [1],\n",
       "       [2]])"
      ]
     },
     "execution_count": 77,
     "metadata": {},
     "output_type": "execute_result"
    }
   ],
   "source": [
    "np.sort(np_array_32.reshape(6,1), axis =1)"
   ]
  },
  {
   "cell_type": "code",
   "execution_count": 80,
   "id": "ce5dbffd-1a73-4c22-b55d-754d412d0051",
   "metadata": {
    "tags": []
   },
   "outputs": [
    {
     "data": {
      "text/plain": [
       "array([[False,  True],\n",
       "       [False,  True],\n",
       "       [False,  True]])"
      ]
     },
     "execution_count": 80,
     "metadata": {},
     "output_type": "execute_result"
    }
   ],
   "source": [
    "np_array_32 > 1\n",
    "# 1'den büyük olanlar gelir"
   ]
  },
  {
   "cell_type": "code",
   "execution_count": 81,
   "id": "c48a9551-850f-428c-b226-5f22a48bdd02",
   "metadata": {
    "tags": []
   },
   "outputs": [
    {
     "data": {
      "text/plain": [
       "array([[False, False],\n",
       "       [False, False],\n",
       "       [False, False]])"
      ]
     },
     "execution_count": 81,
     "metadata": {},
     "output_type": "execute_result"
    }
   ],
   "source": [
    "np_array_32 > 2"
   ]
  },
  {
   "cell_type": "code",
   "execution_count": 82,
   "id": "df577590-2aba-4f08-9fcc-332aa61027e8",
   "metadata": {
    "tags": []
   },
   "outputs": [
    {
     "data": {
      "text/plain": [
       "array([2, 2, 2])"
      ]
     },
     "execution_count": 82,
     "metadata": {},
     "output_type": "execute_result"
    }
   ],
   "source": [
    "np_array_32[np_array_32 > 1]\n",
    "# mantıksal işleme denk gelen elemanaları bize geri dönüş yapmış olur. "
   ]
  },
  {
   "cell_type": "code",
   "execution_count": 84,
   "id": "4051c2db-1006-4168-ad94-33f3a56f1391",
   "metadata": {
    "tags": []
   },
   "outputs": [
    {
     "data": {
      "text/plain": [
       "array([1.5 , 8.  , 1.25, 2.  ])"
      ]
     },
     "execution_count": 84,
     "metadata": {},
     "output_type": "execute_result"
    }
   ],
   "source": [
    "arr_orders = np.array([\n",
    "    [2, 0, 0, 0],\n",
    "    [4, 1, 2, 2],\n",
    "    [0, 1, 0, 1],\n",
    "    [6, 0, 1, 2]\n",
    "])\n",
    "arr_totals = np.array([3, 20.50, 10, 14.25])\n",
    "arr_prices = np.linalg.solve(arr_orders, arr_totals)\n",
    "arr_prices\n",
    "\n",
    "# orderlar ve total var. Burada Numpy yardımıyla siparişlerin \n",
    "# ücretleri ne kadar onu göreceğiz"
   ]
  },
  {
   "cell_type": "code",
   "execution_count": 85,
   "id": "e8a9bb4c-73c6-40bc-b862-6c085fc66164",
   "metadata": {
    "tags": []
   },
   "outputs": [
    {
     "data": {
      "text/plain": [
       "array([ 3.  , 20.5 , 10.  , 14.25])"
      ]
     },
     "execution_count": 85,
     "metadata": {},
     "output_type": "execute_result"
    }
   ],
   "source": [
    "# tam tersi total ne kadardır onu da görebiliriz.\n",
    "arr_orders.dot(arr_prices)"
   ]
  },
  {
   "cell_type": "markdown",
   "id": "7312ffd2-aff6-4c55-aa73-2d8c7b9214f7",
   "metadata": {},
   "source": [
    "Python'da Numpy'ın olmasının en temel sebebi matematiksel işlemler ve diğer kütüphanelere göre çok daha hızlı olması ve daha az yer kaplamasıdır.   \n",
    "Numpy özellikle Pandas'ın temelini oluşturur. Pandas ise data analizde çok daha fazla kullanılan bir kütüphanedir."
   ]
  }
 ],
 "metadata": {
  "kernelspec": {
   "display_name": "Python 3 (ipykernel)",
   "language": "python",
   "name": "python3"
  },
  "language_info": {
   "codemirror_mode": {
    "name": "ipython",
    "version": 3
   },
   "file_extension": ".py",
   "mimetype": "text/x-python",
   "name": "python",
   "nbconvert_exporter": "python",
   "pygments_lexer": "ipython3",
   "version": "3.11.5"
  }
 },
 "nbformat": 4,
 "nbformat_minor": 5
}
